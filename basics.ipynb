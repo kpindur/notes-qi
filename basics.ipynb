{
 "cells": [
  {
   "cell_type": "raw",
   "id": "8c0d800c",
   "metadata": {},
   "source": [
    "---\n",
    "format:\n",
    "  html:\n",
    "    code-fold: true\n",
    "    code-summary: Show the code\n",
    "---"
   ]
  },
  {
   "cell_type": "code",
   "execution_count": null,
   "id": "b3785ceb",
   "metadata": {},
   "outputs": [],
   "source": [
    "import sys\n",
    "!{sys.executable} -m pip install numpy matplotlib sympy"
   ]
  },
  {
   "cell_type": "code",
   "execution_count": 1,
   "id": "164fed5f",
   "metadata": {},
   "outputs": [],
   "source": [
    "from sympy import *\n",
    "from sympy.physics.quantum import *\n",
    "from sympy.physics.quantum.qubit import Qubit, QubitBra\n",
    "init_printing()"
   ]
  },
  {
   "cell_type": "markdown",
   "id": "752eabe3",
   "metadata": {},
   "source": [
    "Bit is used as the most fundamental concept in classical information and computation. \n",
    "There is an analogous concept in quantum information and computation, called _quantum bit_ aka. _qubit_.\n",
    "Similarly to a classical bit, qubit also has a _state_ (0 or 1). These two states are represented as $| 0 \\rangle$ and $| 1 \\rangle$. \n",
    "This notation is called the _Dirac notation_ and basically is a shorthand representation of row (*bra*) and column (*ket*) vectors.\n",
    "\n",
    "The main difference between bits and qubits is that qubits exist in so-called _superposition_ of states (linear combination of states):\n",
    "$$| \\Psi \\rangle = \\alpha | 0 \\rangle + \\beta | 1 \\rangle ,$$\n",
    "where $\\alpha$ and $\\beta$ are complex numbers, though for simplicity it's easier to think of them as real numbers (not much of a difference for now). Additionally, $| \\alpha |^2 + | \\beta |^2 = 1$.\n",
    "The states $| 0 \\rangle $ and $| 1 \\rangle $ are also called _computational basis states_, and for an _orthonormal_ basis for the vector space.\n",
    "\n",
    "In quantum information, we cannot measure a qubit to determine its quantum state. When qubit is measure, we get 0 with probability $| \\alpha |^2$ and 1 with probability $| \\beta |^2$.\n",
    "For example, a qubit in state: $\\frac{1}{\\sqrt{2}} | 0 \\rangle + \\frac{1}{\\sqrt{2}} | 1 \\rangle $, which when measure gives 0 50% of the time and 1 otherwise.\n",
    "We can also write the superposition of states in the following way:\n",
    "$$| \\Psi \\rangle = e^{i\\gamma}(\\cos \\frac{\\theta}{2} | 0 \\rangle + e^{i \\varphi} \\sin \\frac{\\theta}{2} | 1 \\rangle ),$$\n",
    "where $\\theta$, $\\varphi$ and $\\gamma$ are real numbers. We can also ignore $e^{i\\gamma}$ because it has _no observable effect_ (just a scaling factor).\n",
    "The numbers $\\theta$ and $\\varphi$ define a point on the unit three-dimensional sphere, known as _Bloch sphere_.\n",
    "\n",
    "We can define qubits in sympy using:"
   ]
  },
  {
   "cell_type": "code",
   "execution_count": 5,
   "id": "c997750a",
   "metadata": {},
   "outputs": [
    {
     "data": {
      "image/png": "[encoded data removed]",
      "text/latex": [
       "$\\displaystyle {\\left|0\\right\\rangle }$"
      ],
      "text/plain": [
       "❘0⟩"
      ]
     },
     "execution_count": 5,
     "metadata": {},
     "output_type": "execute_result"
    }
   ],
   "source": [
    "#| output: true\n",
    "psi = Qubit('0')\n",
    "psi"
   ]
  },
  {
   "cell_type": "markdown",
   "id": "ea9955a5",
   "metadata": {},
   "source": [
    "Which in normal vector form looks like:"
   ]
  },
  {
   "cell_type": "code",
   "execution_count": 6,
   "id": "fe94efd8",
   "metadata": {},
   "outputs": [
    {
     "data": {
      "image/png": "[encoded data removed]",
      "text/latex": [
       "$\\displaystyle \\left[\\begin{matrix}1\\\\0\\end{matrix}\\right]$"
      ],
      "text/plain": [
       "⎡1⎤\n",
       "⎢ ⎥\n",
       "⎣0⎦"
      ]
     },
     "execution_count": 6,
     "metadata": {},
     "output_type": "execute_result"
    }
   ],
   "source": [
    "represent(psi)"
   ]
  },
  {
   "cell_type": "markdown",
   "id": "561fe7d9",
   "metadata": {},
   "source": [
    "Standard qubit would look like:"
   ]
  },
  {
   "cell_type": "code",
   "execution_count": 7,
   "id": "d7d8a194",
   "metadata": {},
   "outputs": [
    {
     "data": {
      "image/png": "[encoded data removed]",
      "text/latex": [
       "$\\displaystyle \\alpha {\\left|0\\right\\rangle } + \\beta {\\left|1\\right\\rangle }$"
      ],
      "text/plain": [
       "α⋅❘0⟩ + β⋅❘1⟩"
      ]
     },
     "execution_count": 7,
     "metadata": {},
     "output_type": "execute_result"
    }
   ],
   "source": [
    "#| output: true\n",
    "a, b = symbols('alpha, beta')\n",
    "ket0 = Qubit('0')\n",
    "ket1 = Qubit('1')\n",
    "psi = a * ket0 + b * ket1\n",
    "psi"
   ]
  },
  {
   "cell_type": "markdown",
   "id": "09a333c8",
   "metadata": {},
   "source": [
    "If we want to specify probabilities:"
   ]
  },
  {
   "cell_type": "code",
   "execution_count": null,
   "id": "d93d2048",
   "metadata": {},
   "outputs": [],
   "source": [
    "psi.subs(\n",
    "  [([a, 1/sqrt(2)]), ([b, 1/sqrt(2)])]\n",
    ")"
   ]
  }
 ],
 "metadata": {
  "kernelspec": {
   "display_name": "Python 3",
   "language": "python",
   "name": "python3"
  },
  "language_info": {
   "codemirror_mode": {
    "name": "ipython",
    "version": 3
   },
   "file_extension": ".py",
   "mimetype": "text/x-python",
   "name": "python",
   "nbconvert_exporter": "python",
   "pygments_lexer": "ipython3",
   "version": "3.12.4"
  }
 },
 "nbformat": 4,
 "nbformat_minor": 5
}
